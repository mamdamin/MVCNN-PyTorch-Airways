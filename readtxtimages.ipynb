{
 "cells": [
  {
   "cell_type": "code",
   "execution_count": 79,
   "metadata": {},
   "outputs": [
    {
     "name": "stdout",
     "output_type": "stream",
     "text": [
      "                                              MVtxt  label\n",
      "0  D:\\tmp\\MV_CNN_views\\txtImages\\UA240677_Cat_0.txt      0\n",
      "1  D:\\tmp\\MV_CNN_views\\txtImages\\LA190608_Cat_0.txt      0 \n",
      "\n",
      "0 D:\\tmp\\MV_CNN_views\\txtImages\\UA240677_Cat_0.txt 0\n",
      "['D:\\\\tmp\\\\MV_CNN_views\\\\UA240677\\\\UA240677_tilt_30_Angle_0.png', 'D:\\\\tmp\\\\MV_CNN_views\\\\UA240677\\\\UA240677_tilt_30_Angle_4.png', 'D:\\\\tmp\\\\MV_CNN_views\\\\UA240677\\\\UA240677_tilt_30_Angle_8.png', 'D:\\\\tmp\\\\MV_CNN_views\\\\UA240677\\\\UA240677_tilt_30_Angle_12.png', 'D:\\\\tmp\\\\MV_CNN_views\\\\UA240677\\\\UA240677_tilt_30_Angle_16.png', 'D:\\\\tmp\\\\MV_CNN_views\\\\UA240677\\\\UA240677_tilt_30_Angle_20.png', 'D:\\\\tmp\\\\MV_CNN_views\\\\UA240677\\\\UA240677_tilt_30_Angle_24.png', 'D:\\\\tmp\\\\MV_CNN_views\\\\UA240677\\\\UA240677_tilt_30_Angle_28.png', 'D:\\\\tmp\\\\MV_CNN_views\\\\UA240677\\\\UA240677_tilt_30_Angle_32.png', 'D:\\\\tmp\\\\MV_CNN_views\\\\UA240677\\\\UA240677_tilt_30_Angle_36.png', 'D:\\\\tmp\\\\MV_CNN_views\\\\UA240677\\\\UA240677_tilt_30_Angle_40.png', 'D:\\\\tmp\\\\MV_CNN_views\\\\UA240677\\\\UA240677_tilt_30_Angle_44.png']\n"
     ]
    },
    {
     "ename": "NameError",
     "evalue": "name 'halt' is not defined",
     "output_type": "error",
     "traceback": [
      "\u001b[1;31m---------------------------------------------------------------------------\u001b[0m",
      "\u001b[1;31mNameError\u001b[0m                                 Traceback (most recent call last)",
      "\u001b[1;32m<ipython-input-79-8a021eca7fa3>\u001b[0m in \u001b[0;36m<module>\u001b[1;34m()\u001b[0m\n\u001b[0;32m     19\u001b[0m     \u001b[0mviews\u001b[0m \u001b[1;33m=\u001b[0m \u001b[0mviews\u001b[0m\u001b[1;33m[\u001b[0m\u001b[1;33m:\u001b[0m\u001b[1;33m:\u001b[0m\u001b[1;36m4\u001b[0m\u001b[1;33m]\u001b[0m\u001b[1;33m\u001b[0m\u001b[0m\n\u001b[0;32m     20\u001b[0m     \u001b[0mprint\u001b[0m\u001b[1;33m(\u001b[0m\u001b[0mviews\u001b[0m\u001b[1;33m)\u001b[0m\u001b[1;33m\u001b[0m\u001b[0m\n\u001b[1;32m---> 21\u001b[1;33m     \u001b[0mhalt\u001b[0m\u001b[1;33m\u001b[0m\u001b[0m\n\u001b[0m",
      "\u001b[1;31mNameError\u001b[0m: name 'halt' is not defined"
     ]
    }
   ],
   "source": [
    "import os\n",
    "import pandas as pd\n",
    "import re\n",
    "data_type = 'train'+'.txt'\n",
    "root = 'D:\\\\tmp\\MV_CNN_views\\Sets'\n",
    "myset = os.path.join(root,data_type)\n",
    "subjects = pd.read_csv(myset,header=None,sep=' ',names=['MVtxt','label'])\n",
    "print(subjects.head(2),'\\n')\n",
    "\n",
    "for idx, subject,label in subjects.itertuples():\n",
    "    viewfiles = pd.read_csv(subject,header=None, sep=' ',names=['MVtxt','angle'],skiprows=2)\n",
    "    views = []\n",
    "    for i in range(len(viewfiles)):\n",
    "        AA = re.search(\"Angle_[0-9]*\",viewfiles.iloc[i,0]).group().upper()\n",
    "        viewfiles.iloc[i,1] = int(AA[6:])\n",
    "    viewfiles.sort_values(by='angle',inplace=True)\n",
    "    views = viewfiles.MVtxt.tolist()\n",
    "    views = views[::4]\n",
    "    print(views)\n",
    "    halt"
   ]
  },
  {
   "cell_type": "code",
   "execution_count": null,
   "metadata": {},
   "outputs": [],
   "source": []
  },
  {
   "cell_type": "code",
   "execution_count": null,
   "metadata": {},
   "outputs": [],
   "source": []
  }
 ],
 "metadata": {
  "kernelspec": {
   "display_name": "Python 3",
   "language": "python",
   "name": "python3"
  },
  "language_info": {
   "codemirror_mode": {
    "name": "ipython",
    "version": 3
   },
   "file_extension": ".py",
   "mimetype": "text/x-python",
   "name": "python",
   "nbconvert_exporter": "python",
   "pygments_lexer": "ipython3",
   "version": "3.6.4"
  }
 },
 "nbformat": 4,
 "nbformat_minor": 2
}
